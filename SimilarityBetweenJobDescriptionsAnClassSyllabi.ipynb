{
 "cells": [
  {
   "cell_type": "markdown",
   "id": "3ec23a7d",
   "metadata": {},
   "source": [
    "# Unstructured Data Final Project\n",
    "### Brett Bartol"
   ]
  },
  {
   "cell_type": "markdown",
   "id": "e490663a",
   "metadata": {},
   "source": [
    "## Looking at Job Descriptions"
   ]
  },
  {
   "cell_type": "code",
   "execution_count": 29,
   "id": "b9900cc0",
   "metadata": {},
   "outputs": [],
   "source": [
    "import pandas as pd\n",
    "import numpy as np\n",
    "import matplotlib.pyplot as plt"
   ]
  },
  {
   "cell_type": "code",
   "execution_count": 30,
   "id": "b09a850a",
   "metadata": {},
   "outputs": [],
   "source": [
    "jobs1 = pd.read_csv('linkedin (3).csv')\n",
    "jobs2 = pd.read_csv('linkedin2 (4).csv')\n",
    "jobs = jobs1.append(jobs2)\n",
    "jobs = jobs[['jobcard-href', 'job_title', 'job_description']]"
   ]
  },
  {
   "cell_type": "code",
   "execution_count": 31,
   "id": "66e6054a",
   "metadata": {},
   "outputs": [
    {
     "data": {
      "text/html": [
       "<div>\n",
       "<style scoped>\n",
       "    .dataframe tbody tr th:only-of-type {\n",
       "        vertical-align: middle;\n",
       "    }\n",
       "\n",
       "    .dataframe tbody tr th {\n",
       "        vertical-align: top;\n",
       "    }\n",
       "\n",
       "    .dataframe thead th {\n",
       "        text-align: right;\n",
       "    }\n",
       "</style>\n",
       "<table border=\"1\" class=\"dataframe\">\n",
       "  <thead>\n",
       "    <tr style=\"text-align: right;\">\n",
       "      <th></th>\n",
       "      <th>jobcard-href</th>\n",
       "      <th>job_title</th>\n",
       "      <th>job_description</th>\n",
       "    </tr>\n",
       "  </thead>\n",
       "  <tbody>\n",
       "    <tr>\n",
       "      <th>0</th>\n",
       "      <td>https://www.linkedin.com/jobs/view/2702914262/...</td>\n",
       "      <td>Products Data Science Manager</td>\n",
       "      <td>About the job\\r\\n          \\r\\n\\r\\n\\r\\n       ...</td>\n",
       "    </tr>\n",
       "    <tr>\n",
       "      <th>1</th>\n",
       "      <td>https://www.linkedin.com/jobs/view/2726124988/...</td>\n",
       "      <td>Data Science Engineer - Guaranteed sign on bon...</td>\n",
       "      <td>About the job\\r\\n          \\r\\n\\r\\n\\r\\n       ...</td>\n",
       "    </tr>\n",
       "    <tr>\n",
       "      <th>2</th>\n",
       "      <td>https://www.linkedin.com/jobs/view/2731017808/...</td>\n",
       "      <td>Data Science Manager, Ads and Business Products</td>\n",
       "      <td>About the job\\r\\n          \\r\\n\\r\\n\\r\\n       ...</td>\n",
       "    </tr>\n",
       "    <tr>\n",
       "      <th>3</th>\n",
       "      <td>https://www.linkedin.com/jobs/view/2702918041/...</td>\n",
       "      <td>Products Data Science Manager</td>\n",
       "      <td>About the job\\r\\n          \\r\\n\\r\\n\\r\\n       ...</td>\n",
       "    </tr>\n",
       "    <tr>\n",
       "      <th>4</th>\n",
       "      <td>https://www.linkedin.com/jobs/view/2738326508/...</td>\n",
       "      <td>Data Science/ Analytics Associate Manager</td>\n",
       "      <td>About the job\\r\\n          \\r\\n\\r\\n\\r\\n       ...</td>\n",
       "    </tr>\n",
       "  </tbody>\n",
       "</table>\n",
       "</div>"
      ],
      "text/plain": [
       "                                        jobcard-href  \\\n",
       "0  https://www.linkedin.com/jobs/view/2702914262/...   \n",
       "1  https://www.linkedin.com/jobs/view/2726124988/...   \n",
       "2  https://www.linkedin.com/jobs/view/2731017808/...   \n",
       "3  https://www.linkedin.com/jobs/view/2702918041/...   \n",
       "4  https://www.linkedin.com/jobs/view/2738326508/...   \n",
       "\n",
       "                                           job_title  \\\n",
       "0                      Products Data Science Manager   \n",
       "1  Data Science Engineer - Guaranteed sign on bon...   \n",
       "2    Data Science Manager, Ads and Business Products   \n",
       "3                      Products Data Science Manager   \n",
       "4          Data Science/ Analytics Associate Manager   \n",
       "\n",
       "                                     job_description  \n",
       "0  About the job\\r\\n          \\r\\n\\r\\n\\r\\n       ...  \n",
       "1  About the job\\r\\n          \\r\\n\\r\\n\\r\\n       ...  \n",
       "2  About the job\\r\\n          \\r\\n\\r\\n\\r\\n       ...  \n",
       "3  About the job\\r\\n          \\r\\n\\r\\n\\r\\n       ...  \n",
       "4  About the job\\r\\n          \\r\\n\\r\\n\\r\\n       ...  "
      ]
     },
     "execution_count": 31,
     "metadata": {},
     "output_type": "execute_result"
    }
   ],
   "source": [
    "jobs.head()"
   ]
  },
  {
   "cell_type": "code",
   "execution_count": 32,
   "id": "ee18fbf6",
   "metadata": {},
   "outputs": [],
   "source": [
    "def split_clean(text):\n",
    "    \n",
    "    text = str(text).lower().split(' ')\n",
    "    text = [x.replace('\\r', '').replace('\\n', '') for x in text]\n",
    "    text = [x for x in text if x != '']\n",
    "    \n",
    "    return text"
   ]
  },
  {
   "cell_type": "code",
   "execution_count": 33,
   "id": "a7a09c48",
   "metadata": {},
   "outputs": [],
   "source": [
    "jobs['job_text'] = jobs['job_description'].apply(split_clean)"
   ]
  },
  {
   "cell_type": "code",
   "execution_count": 34,
   "id": "4adee827",
   "metadata": {},
   "outputs": [
    {
     "data": {
      "text/html": [
       "<div>\n",
       "<style scoped>\n",
       "    .dataframe tbody tr th:only-of-type {\n",
       "        vertical-align: middle;\n",
       "    }\n",
       "\n",
       "    .dataframe tbody tr th {\n",
       "        vertical-align: top;\n",
       "    }\n",
       "\n",
       "    .dataframe thead th {\n",
       "        text-align: right;\n",
       "    }\n",
       "</style>\n",
       "<table border=\"1\" class=\"dataframe\">\n",
       "  <thead>\n",
       "    <tr style=\"text-align: right;\">\n",
       "      <th></th>\n",
       "      <th>jobcard-href</th>\n",
       "      <th>job_title</th>\n",
       "      <th>job_description</th>\n",
       "      <th>job_text</th>\n",
       "    </tr>\n",
       "  </thead>\n",
       "  <tbody>\n",
       "    <tr>\n",
       "      <th>0</th>\n",
       "      <td>https://www.linkedin.com/jobs/view/2702914262/...</td>\n",
       "      <td>Products Data Science Manager</td>\n",
       "      <td>About the job\\r\\n          \\r\\n\\r\\n\\r\\n       ...</td>\n",
       "      <td>[about, the, job, accenture, is, a, global, pr...</td>\n",
       "    </tr>\n",
       "    <tr>\n",
       "      <th>1</th>\n",
       "      <td>https://www.linkedin.com/jobs/view/2726124988/...</td>\n",
       "      <td>Data Science Engineer - Guaranteed sign on bon...</td>\n",
       "      <td>About the job\\r\\n          \\r\\n\\r\\n\\r\\n       ...</td>\n",
       "      <td>[about, the, job, introductionjoin, asml, wilt...</td>\n",
       "    </tr>\n",
       "    <tr>\n",
       "      <th>2</th>\n",
       "      <td>https://www.linkedin.com/jobs/view/2731017808/...</td>\n",
       "      <td>Data Science Manager, Ads and Business Products</td>\n",
       "      <td>About the job\\r\\n          \\r\\n\\r\\n\\r\\n       ...</td>\n",
       "      <td>[about, the, job, facebook's, mission, is, to,...</td>\n",
       "    </tr>\n",
       "    <tr>\n",
       "      <th>3</th>\n",
       "      <td>https://www.linkedin.com/jobs/view/2702918041/...</td>\n",
       "      <td>Products Data Science Manager</td>\n",
       "      <td>About the job\\r\\n          \\r\\n\\r\\n\\r\\n       ...</td>\n",
       "      <td>[about, the, job, accenture, is, a, global, pr...</td>\n",
       "    </tr>\n",
       "    <tr>\n",
       "      <th>4</th>\n",
       "      <td>https://www.linkedin.com/jobs/view/2738326508/...</td>\n",
       "      <td>Data Science/ Analytics Associate Manager</td>\n",
       "      <td>About the job\\r\\n          \\r\\n\\r\\n\\r\\n       ...</td>\n",
       "      <td>[about, the, job, we, are:accenture, interacti...</td>\n",
       "    </tr>\n",
       "  </tbody>\n",
       "</table>\n",
       "</div>"
      ],
      "text/plain": [
       "                                        jobcard-href  \\\n",
       "0  https://www.linkedin.com/jobs/view/2702914262/...   \n",
       "1  https://www.linkedin.com/jobs/view/2726124988/...   \n",
       "2  https://www.linkedin.com/jobs/view/2731017808/...   \n",
       "3  https://www.linkedin.com/jobs/view/2702918041/...   \n",
       "4  https://www.linkedin.com/jobs/view/2738326508/...   \n",
       "\n",
       "                                           job_title  \\\n",
       "0                      Products Data Science Manager   \n",
       "1  Data Science Engineer - Guaranteed sign on bon...   \n",
       "2    Data Science Manager, Ads and Business Products   \n",
       "3                      Products Data Science Manager   \n",
       "4          Data Science/ Analytics Associate Manager   \n",
       "\n",
       "                                     job_description  \\\n",
       "0  About the job\\r\\n          \\r\\n\\r\\n\\r\\n       ...   \n",
       "1  About the job\\r\\n          \\r\\n\\r\\n\\r\\n       ...   \n",
       "2  About the job\\r\\n          \\r\\n\\r\\n\\r\\n       ...   \n",
       "3  About the job\\r\\n          \\r\\n\\r\\n\\r\\n       ...   \n",
       "4  About the job\\r\\n          \\r\\n\\r\\n\\r\\n       ...   \n",
       "\n",
       "                                            job_text  \n",
       "0  [about, the, job, accenture, is, a, global, pr...  \n",
       "1  [about, the, job, introductionjoin, asml, wilt...  \n",
       "2  [about, the, job, facebook's, mission, is, to,...  \n",
       "3  [about, the, job, accenture, is, a, global, pr...  \n",
       "4  [about, the, job, we, are:accenture, interacti...  "
      ]
     },
     "execution_count": 34,
     "metadata": {},
     "output_type": "execute_result"
    }
   ],
   "source": [
    "jobs.head()"
   ]
  },
  {
   "cell_type": "code",
   "execution_count": null,
   "id": "d2eac71d",
   "metadata": {},
   "outputs": [],
   "source": [
    "all_text = ''\n",
    "for comment in jobs['job_description']:\n",
    "    all_text += str(comment).replace('\\r', '').replace('\\n', '')\n",
    "\n",
    "#all_text"
   ]
  },
  {
   "cell_type": "code",
   "execution_count": 36,
   "id": "5125d1e5",
   "metadata": {},
   "outputs": [],
   "source": [
    "from string import punctuation\n",
    "from nltk.corpus import stopwords\n",
    "from nltk.tokenize import word_tokenize\n",
    "stop_words = set(stopwords.words('english') + list(punctuation) + list(''))\n",
    "\n",
    "def filter_stop(text):\n",
    "    text = text.split(' ')\n",
    "    text = [x.lower() for x in text if x not in stop_words]\n",
    "    return text"
   ]
  },
  {
   "cell_type": "code",
   "execution_count": 37,
   "id": "fb953fb7",
   "metadata": {},
   "outputs": [],
   "source": [
    "text_out = filter_stop(all_text)\n",
    "text_out2 = text_out.copy()"
   ]
  },
  {
   "cell_type": "code",
   "execution_count": 98,
   "id": "0299e698",
   "metadata": {},
   "outputs": [
    {
     "data": {
      "text/plain": [
       "97451"
      ]
     },
     "execution_count": 98,
     "metadata": {},
     "output_type": "execute_result"
    }
   ],
   "source": [
    "word_counts = {}\n",
    "for word in text_out:\n",
    "    if word not in stop_words:\n",
    "        if word in word_counts:\n",
    "            word_counts[word] = word_counts[word] + 1\n",
    "        else:\n",
    "            word_counts[word] = 1\n",
    "word_counts.pop('')\n",
    "#word_counts"
   ]
  },
  {
   "cell_type": "code",
   "execution_count": 99,
   "id": "24cc9f46",
   "metadata": {},
   "outputs": [],
   "source": [
    "counts = pd.Series(word_counts).to_frame().reset_index()\n",
    "counts = counts.rename(columns = {'index' : 'word', 0 : 'count'}).sort_values(by = 'count', ascending = False)"
   ]
  },
  {
   "cell_type": "code",
   "execution_count": 100,
   "id": "cf761e2e",
   "metadata": {},
   "outputs": [
    {
     "data": {
      "text/html": [
       "<div>\n",
       "<style scoped>\n",
       "    .dataframe tbody tr th:only-of-type {\n",
       "        vertical-align: middle;\n",
       "    }\n",
       "\n",
       "    .dataframe tbody tr th {\n",
       "        vertical-align: top;\n",
       "    }\n",
       "\n",
       "    .dataframe thead th {\n",
       "        text-align: right;\n",
       "    }\n",
       "</style>\n",
       "<table border=\"1\" class=\"dataframe\">\n",
       "  <thead>\n",
       "    <tr style=\"text-align: right;\">\n",
       "      <th></th>\n",
       "      <th>word</th>\n",
       "      <th>count</th>\n",
       "    </tr>\n",
       "  </thead>\n",
       "  <tbody>\n",
       "    <tr>\n",
       "      <th>64</th>\n",
       "      <td>data</td>\n",
       "      <td>19140</td>\n",
       "    </tr>\n",
       "    <tr>\n",
       "      <th>344</th>\n",
       "      <td>business</td>\n",
       "      <td>6315</td>\n",
       "    </tr>\n",
       "    <tr>\n",
       "      <th>13</th>\n",
       "      <td>experience</td>\n",
       "      <td>6197</td>\n",
       "    </tr>\n",
       "    <tr>\n",
       "      <th>144</th>\n",
       "      <td>science</td>\n",
       "      <td>5336</td>\n",
       "    </tr>\n",
       "    <tr>\n",
       "      <th>109</th>\n",
       "      <td>work</td>\n",
       "      <td>4574</td>\n",
       "    </tr>\n",
       "    <tr>\n",
       "      <th>62</th>\n",
       "      <td>team</td>\n",
       "      <td>4557</td>\n",
       "    </tr>\n",
       "    <tr>\n",
       "      <th>0</th>\n",
       "      <td>job</td>\n",
       "      <td>3182</td>\n",
       "    </tr>\n",
       "    <tr>\n",
       "      <th>93</th>\n",
       "      <td>analytics</td>\n",
       "      <td>2973</td>\n",
       "    </tr>\n",
       "    <tr>\n",
       "      <th>66</th>\n",
       "      <td>machine</td>\n",
       "      <td>2747</td>\n",
       "    </tr>\n",
       "    <tr>\n",
       "      <th>163</th>\n",
       "      <td>years</td>\n",
       "      <td>2719</td>\n",
       "    </tr>\n",
       "  </tbody>\n",
       "</table>\n",
       "</div>"
      ],
      "text/plain": [
       "           word  count\n",
       "64         data  19140\n",
       "344    business   6315\n",
       "13   experience   6197\n",
       "144     science   5336\n",
       "109        work   4574\n",
       "62         team   4557\n",
       "0           job   3182\n",
       "93    analytics   2973\n",
       "66      machine   2747\n",
       "163       years   2719"
      ]
     },
     "execution_count": 100,
     "metadata": {},
     "output_type": "execute_result"
    }
   ],
   "source": [
    "counts.head(10)"
   ]
  },
  {
   "cell_type": "code",
   "execution_count": 101,
   "id": "ed956f73",
   "metadata": {},
   "outputs": [
    {
     "data": {
      "text/plain": [
       "[<matplotlib.lines.Line2D at 0x1b0b79aa4f0>]"
      ]
     },
     "execution_count": 101,
     "metadata": {},
     "output_type": "execute_result"
    },
    {
     "data": {
      "image/png": "[encoded data removed]",
      "text/plain": [
       "<Figure size 432x288 with 1 Axes>"
      ]
     },
     "metadata": {
      "needs_background": "light"
     },
     "output_type": "display_data"
    }
   ],
   "source": [
    "plt.plot(range(100), counts['count'][:100])"
   ]
  },
  {
   "cell_type": "markdown",
   "id": "96dc3b30",
   "metadata": {},
   "source": [
    "## Getting Text from Syllabi"
   ]
  },
  {
   "cell_type": "code",
   "execution_count": 107,
   "id": "fb6d7f9e",
   "metadata": {},
   "outputs": [],
   "source": [
    "import docx2txt\n",
    "def doc_text(file):\n",
    "    doc = docx2txt.process(file)\n",
    "    return doc.replace('\\r', ' ').replace('\\n', ' ')"
   ]
  },
  {
   "cell_type": "code",
   "execution_count": 108,
   "id": "8b6566c2",
   "metadata": {},
   "outputs": [],
   "source": [
    "import PyPDF2\n",
    "def pdf_text(file):\n",
    "    pdf_file = open(file, 'rb')\n",
    "    pdfReader = PyPDF2.PdfFileReader(pdf_file)\n",
    "    pdf = ''\n",
    "    for i in range(pdfReader.numPages):\n",
    "        pdf += pdfReader.getPage(i).extractText()\n",
    "    return pdf.replace('\\r', ' ').replace('\\n', ' ')"
   ]
  },
  {
   "cell_type": "code",
   "execution_count": 132,
   "id": "12a8f475",
   "metadata": {},
   "outputs": [],
   "source": [
    "AML = doc_text('MIS 382N syllabus f21.docx')\n",
    "Unstructured = doc_text('Syllabus Analytics for Unstructured Data MSBA Barua F2021-1.docx')\n",
    "Optimization = doc_text('Syllabus_F21.docx')\n",
    "Database = pdf_text('381N Syllabus - MW version.pdf')\n",
    "\n",
    "syllabi = [('Advanced Machine Learning', AML), ('Analytics for Unstructured Data', Unstructured), ('Optimization I', Optimization), ('Intro to Database Management', Database)]"
   ]
  },
  {
   "cell_type": "markdown",
   "id": "488bd3e7",
   "metadata": {},
   "source": [
    "## Comparing Syllabi to Job Descriptions"
   ]
  },
  {
   "cell_type": "code",
   "execution_count": 185,
   "id": "fc474354",
   "metadata": {},
   "outputs": [],
   "source": [
    "import math\n",
    "from statistics import mean\n",
    "def doc_similarity(query, word_lists):\n",
    "    #query = split_clean(query)\n",
    "    tf_idf = np.zeros((len(query), len(word_lists)))\n",
    "    for i, word in enumerate(query):\n",
    "        for j, doc in enumerate(word_lists):\n",
    "            if word in doc:\n",
    "                tf_idf[i, j] = 1\n",
    "    \n",
    "    idf = np.zeros(len(query))\n",
    "    for i in range(len(idf)):\n",
    "        if sum(tf_idf[i, :]) == 0:\n",
    "            idf[i] = 0\n",
    "        else:\n",
    "            idf[i] = math.log10(sum(tf_idf[i, :]) / tf_idf.shape[1])\n",
    "        \n",
    "        tf_idf[i, :] *= idf[i]\n",
    "        \n",
    "    similarities = np.zeros(tf_idf.shape[1])\n",
    "    for i in range(len(similarities)):\n",
    "        similarities[i] = (tf_idf[:, i] @ idf) / ((sum(tf_idf[:, i] ** 2)) * (sum(idf ** 2)) ** .5)\n",
    "        \n",
    "    return mean(similarities)"
   ]
  },
  {
   "cell_type": "code",
   "execution_count": 186,
   "id": "d07d0721",
   "metadata": {},
   "outputs": [
    {
     "name": "stdout",
     "output_type": "stream",
     "text": [
      "Advanced Machine Learning Average Similarity: 0.0243501130306093\n",
      "Analytics for Unstructured Data Average Similarity: 0.02499437985477472\n",
      "Optimization I Average Similarity: 0.01594431446285424\n",
      "Intro to Database Management Average Similarity: 0.014826703695169686\n"
     ]
    }
   ],
   "source": [
    "results = []\n",
    "for title, text in syllabi:\n",
    "    doc_sim = doc_similarity(split_clean(text), jobs['job_text'])\n",
    "    result = title + ' Average Similarity: ' + str(doc_sim)\n",
    "    results.append(doc_sim)\n",
    "    print(result)"
   ]
  },
  {
   "cell_type": "code",
   "execution_count": 187,
   "id": "c0129810",
   "metadata": {},
   "outputs": [],
   "source": [
    "df = pd.DataFrame(syllabi, columns = ['title', 'text'])\n",
    "df['cosine'] = results        "
   ]
  },
  {
   "cell_type": "code",
   "execution_count": 195,
   "id": "bf0052fa",
   "metadata": {},
   "outputs": [
    {
     "data": {
      "text/plain": [
       "Text(0, 0.5, 'Cosine Similarity')"
      ]
     },
     "execution_count": 195,
     "metadata": {},
     "output_type": "execute_result"
    },
    {
     "data": {
      "image/png": "[encoded data removed]",
      "text/plain": [
       "<Figure size 432x288 with 1 Axes>"
      ]
     },
     "metadata": {
      "needs_background": "light"
     },
     "output_type": "display_data"
    }
   ],
   "source": [
    "plt.bar(df['title'], df['cosine'], color = '#1836b2')\n",
    "plt.xticks(rotation = 45, ha = 'right')\n",
    "plt.title('Average Cosine Similarity')\n",
    "plt.ylabel('Cosine Similarity')"
   ]
  },
  {
   "cell_type": "code",
   "execution_count": 189,
   "id": "2e8750c2",
   "metadata": {},
   "outputs": [],
   "source": [
    "## Creating Bi-grams and Tri-grams\n",
    "def make_bigram_etc(text, group_size):\n",
    "    bigram_list = []\n",
    "    text = split_clean(text)\n",
    "    for i in range(len(text) - group_size + 1):\n",
    "        gram = []\n",
    "        for j in range(group_size):\n",
    "               gram.append(text[i + j].replace('\\r', '').replace('\\n', '')) \n",
    "        gram = ' '.join(gram)\n",
    "        bigram_list.append(gram)\n",
    "    \n",
    "    return bigram_list"
   ]
  },
  {
   "cell_type": "code",
   "execution_count": 190,
   "id": "2a00dba9",
   "metadata": {},
   "outputs": [
    {
     "data": {
      "text/plain": [
       "['mis 382n: advanced',\n",
       " '382n: advanced machine',\n",
       " 'advanced machine learning',\n",
       " 'machine learning course',\n",
       " 'learning course syllabus',\n",
       " 'course syllabus instuctor:',\n",
       " 'syllabus instuctor: prof.',\n",
       " 'instuctor: prof. joydeep',\n",
       " 'prof. joydeep ghosh,',\n",
       " 'joydeep ghosh, jghosh@utexas.edu']"
      ]
     },
     "execution_count": 190,
     "metadata": {},
     "output_type": "execute_result"
    }
   ],
   "source": [
    "make_bigram_etc(AML, 3)[:10]"
   ]
  },
  {
   "cell_type": "code",
   "execution_count": 191,
   "id": "f7877842",
   "metadata": {},
   "outputs": [
    {
     "data": {
      "text/plain": [
       "['mis 382n:',\n",
       " '382n: advanced',\n",
       " 'advanced machine',\n",
       " 'machine learning',\n",
       " 'learning course',\n",
       " 'course syllabus',\n",
       " 'syllabus instuctor:',\n",
       " 'instuctor: prof.',\n",
       " 'prof. joydeep',\n",
       " 'joydeep ghosh,']"
      ]
     },
     "execution_count": 191,
     "metadata": {},
     "output_type": "execute_result"
    }
   ],
   "source": [
    "make_bigram_etc(AML, 2)[:10]"
   ]
  },
  {
   "cell_type": "code",
   "execution_count": 192,
   "id": "c41bbef0",
   "metadata": {},
   "outputs": [],
   "source": [
    "jobs['bigram'] = jobs['job_description'].apply(lambda x : make_bigram_etc(x, 2))\n",
    "jobs['trigram'] = jobs['job_description'].apply(lambda x : make_bigram_etc(x, 3))"
   ]
  },
  {
   "cell_type": "code",
   "execution_count": 193,
   "id": "f34958c3",
   "metadata": {},
   "outputs": [
    {
     "data": {
      "text/html": [
       "<div>\n",
       "<style scoped>\n",
       "    .dataframe tbody tr th:only-of-type {\n",
       "        vertical-align: middle;\n",
       "    }\n",
       "\n",
       "    .dataframe tbody tr th {\n",
       "        vertical-align: top;\n",
       "    }\n",
       "\n",
       "    .dataframe thead th {\n",
       "        text-align: right;\n",
       "    }\n",
       "</style>\n",
       "<table border=\"1\" class=\"dataframe\">\n",
       "  <thead>\n",
       "    <tr style=\"text-align: right;\">\n",
       "      <th></th>\n",
       "      <th>bigram</th>\n",
       "      <th>trigram</th>\n",
       "    </tr>\n",
       "  </thead>\n",
       "  <tbody>\n",
       "    <tr>\n",
       "      <th>0</th>\n",
       "      <td>[about the, the job, job accenture, accenture ...</td>\n",
       "      <td>[about the job, the job accenture, job accentu...</td>\n",
       "    </tr>\n",
       "    <tr>\n",
       "      <th>1</th>\n",
       "      <td>[about the, the job, job introductionjoin, int...</td>\n",
       "      <td>[about the job, the job introductionjoin, job ...</td>\n",
       "    </tr>\n",
       "    <tr>\n",
       "      <th>2</th>\n",
       "      <td>[about the, the job, job facebook's, facebook'...</td>\n",
       "      <td>[about the job, the job facebook's, job facebo...</td>\n",
       "    </tr>\n",
       "    <tr>\n",
       "      <th>3</th>\n",
       "      <td>[about the, the job, job accenture, accenture ...</td>\n",
       "      <td>[about the job, the job accenture, job accentu...</td>\n",
       "    </tr>\n",
       "    <tr>\n",
       "      <th>4</th>\n",
       "      <td>[about the, the job, job we, we are:accenture,...</td>\n",
       "      <td>[about the job, the job we, job we are:accentu...</td>\n",
       "    </tr>\n",
       "  </tbody>\n",
       "</table>\n",
       "</div>"
      ],
      "text/plain": [
       "                                              bigram  \\\n",
       "0  [about the, the job, job accenture, accenture ...   \n",
       "1  [about the, the job, job introductionjoin, int...   \n",
       "2  [about the, the job, job facebook's, facebook'...   \n",
       "3  [about the, the job, job accenture, accenture ...   \n",
       "4  [about the, the job, job we, we are:accenture,...   \n",
       "\n",
       "                                             trigram  \n",
       "0  [about the job, the job accenture, job accentu...  \n",
       "1  [about the job, the job introductionjoin, job ...  \n",
       "2  [about the job, the job facebook's, job facebo...  \n",
       "3  [about the job, the job accenture, job accentu...  \n",
       "4  [about the job, the job we, job we are:accentu...  "
      ]
     },
     "execution_count": 193,
     "metadata": {},
     "output_type": "execute_result"
    }
   ],
   "source": [
    "jobs[['bigram', 'trigram']].head()"
   ]
  },
  {
   "cell_type": "code",
   "execution_count": 239,
   "id": "9f302f24",
   "metadata": {},
   "outputs": [],
   "source": [
    "# for title, text in syllabi:\n",
    "#     doc_sim = doc_similarity(make_bigram_etc(text, 2), jobs['bigram'])\n",
    "#     result = title + ' Average Similarity: ' + str(doc_sim)\n",
    "#     print(result)"
   ]
  },
  {
   "cell_type": "code",
   "execution_count": 240,
   "id": "89981473",
   "metadata": {},
   "outputs": [],
   "source": [
    "# for title, text in syllabi:\n",
    "#     doc_sim = doc_similarity(make_bigram_etc(text, 3), jobs['trigram'])\n",
    "#     result = title + ' Average Similarity: ' + str(doc_sim)\n",
    "#     print(result)"
   ]
  },
  {
   "cell_type": "code",
   "execution_count": 241,
   "id": "4d6bd3d6",
   "metadata": {},
   "outputs": [],
   "source": [
    "job_types = ['Analyst', 'Manager','Data Science', 'Data Scientist','Data Engineer', \n",
    "             'Business Intelligence', 'Intern','Associate']\n",
    "\n",
    "def change_job_title(title):\n",
    "    for job in job_types:\n",
    "        if job in title:\n",
    "            return job\n",
    "            break\n",
    "    return title\n",
    "            \n",
    "jobs['job_title'] = jobs['job_title'].apply(change_job_title)\n",
    "\n",
    "data_scientist = jobs[jobs['job_title'] == \"Data Science\"].append(jobs[jobs['job_title'] == \"Data Scientist\"])\n",
    "\n",
    "data_analyst = jobs[jobs['job_title'] == \"Analyst\"]"
   ]
  },
  {
   "cell_type": "code",
   "execution_count": 242,
   "id": "3ee20251",
   "metadata": {},
   "outputs": [
    {
     "data": {
      "text/html": [
       "<div>\n",
       "<style scoped>\n",
       "    .dataframe tbody tr th:only-of-type {\n",
       "        vertical-align: middle;\n",
       "    }\n",
       "\n",
       "    .dataframe tbody tr th {\n",
       "        vertical-align: top;\n",
       "    }\n",
       "\n",
       "    .dataframe thead th {\n",
       "        text-align: right;\n",
       "    }\n",
       "</style>\n",
       "<table border=\"1\" class=\"dataframe\">\n",
       "  <thead>\n",
       "    <tr style=\"text-align: right;\">\n",
       "      <th></th>\n",
       "      <th>jobcard-href</th>\n",
       "      <th>job_title</th>\n",
       "      <th>job_description</th>\n",
       "      <th>job_text</th>\n",
       "      <th>bigram</th>\n",
       "      <th>trigram</th>\n",
       "    </tr>\n",
       "  </thead>\n",
       "  <tbody>\n",
       "    <tr>\n",
       "      <th>1</th>\n",
       "      <td>https://www.linkedin.com/jobs/view/2726124988/...</td>\n",
       "      <td>Data Science</td>\n",
       "      <td>About the job\\r\\n          \\r\\n\\r\\n\\r\\n       ...</td>\n",
       "      <td>[about, the, job, introductionjoin, asml, wilt...</td>\n",
       "      <td>[about the, the job, job introductionjoin, int...</td>\n",
       "      <td>[about the job, the job introductionjoin, job ...</td>\n",
       "    </tr>\n",
       "    <tr>\n",
       "      <th>5</th>\n",
       "      <td>https://www.linkedin.com/jobs/view/2724547997/...</td>\n",
       "      <td>Data Science</td>\n",
       "      <td>About the job\\r\\n          \\r\\n\\r\\n\\r\\n       ...</td>\n",
       "      <td>[about, the, job, what, makes, gartner, resear...</td>\n",
       "      <td>[about the, the job, job what, what makes, mak...</td>\n",
       "      <td>[about the job, the job what, job what makes, ...</td>\n",
       "    </tr>\n",
       "    <tr>\n",
       "      <th>6</th>\n",
       "      <td>https://www.linkedin.com/jobs/view/2731444424/...</td>\n",
       "      <td>Data Science</td>\n",
       "      <td>About the job\\r\\n          \\r\\n\\r\\n\\r\\n       ...</td>\n",
       "      <td>[about, the, job, what, we'll, bringat, transu...</td>\n",
       "      <td>[about the, the job, job what, what we'll, we'...</td>\n",
       "      <td>[about the job, the job what, job what we'll, ...</td>\n",
       "    </tr>\n",
       "    <tr>\n",
       "      <th>7</th>\n",
       "      <td>https://www.linkedin.com/jobs/view/2738133749/...</td>\n",
       "      <td>Data Science</td>\n",
       "      <td>About the job\\r\\n          \\r\\n\\r\\n\\r\\n       ...</td>\n",
       "      <td>[about, the, job, to, get, the, best, candidat...</td>\n",
       "      <td>[about the, the job, job to, to get, get the, ...</td>\n",
       "      <td>[about the job, the job to, job to get, to get...</td>\n",
       "    </tr>\n",
       "    <tr>\n",
       "      <th>10</th>\n",
       "      <td>https://www.linkedin.com/jobs/view/2732484484/...</td>\n",
       "      <td>Data Science</td>\n",
       "      <td>About the job\\r\\n          \\r\\n\\r\\n\\r\\n       ...</td>\n",
       "      <td>[about, the, job, introductionasml, us, brings...</td>\n",
       "      <td>[about the, the job, job introductionasml, int...</td>\n",
       "      <td>[about the job, the job introductionasml, job ...</td>\n",
       "    </tr>\n",
       "  </tbody>\n",
       "</table>\n",
       "</div>"
      ],
      "text/plain": [
       "                                         jobcard-href     job_title  \\\n",
       "1   https://www.linkedin.com/jobs/view/2726124988/...  Data Science   \n",
       "5   https://www.linkedin.com/jobs/view/2724547997/...  Data Science   \n",
       "6   https://www.linkedin.com/jobs/view/2731444424/...  Data Science   \n",
       "7   https://www.linkedin.com/jobs/view/2738133749/...  Data Science   \n",
       "10  https://www.linkedin.com/jobs/view/2732484484/...  Data Science   \n",
       "\n",
       "                                      job_description  \\\n",
       "1   About the job\\r\\n          \\r\\n\\r\\n\\r\\n       ...   \n",
       "5   About the job\\r\\n          \\r\\n\\r\\n\\r\\n       ...   \n",
       "6   About the job\\r\\n          \\r\\n\\r\\n\\r\\n       ...   \n",
       "7   About the job\\r\\n          \\r\\n\\r\\n\\r\\n       ...   \n",
       "10  About the job\\r\\n          \\r\\n\\r\\n\\r\\n       ...   \n",
       "\n",
       "                                             job_text  \\\n",
       "1   [about, the, job, introductionjoin, asml, wilt...   \n",
       "5   [about, the, job, what, makes, gartner, resear...   \n",
       "6   [about, the, job, what, we'll, bringat, transu...   \n",
       "7   [about, the, job, to, get, the, best, candidat...   \n",
       "10  [about, the, job, introductionasml, us, brings...   \n",
       "\n",
       "                                               bigram  \\\n",
       "1   [about the, the job, job introductionjoin, int...   \n",
       "5   [about the, the job, job what, what makes, mak...   \n",
       "6   [about the, the job, job what, what we'll, we'...   \n",
       "7   [about the, the job, job to, to get, get the, ...   \n",
       "10  [about the, the job, job introductionasml, int...   \n",
       "\n",
       "                                              trigram  \n",
       "1   [about the job, the job introductionjoin, job ...  \n",
       "5   [about the job, the job what, job what makes, ...  \n",
       "6   [about the job, the job what, job what we'll, ...  \n",
       "7   [about the job, the job to, job to get, to get...  \n",
       "10  [about the job, the job introductionasml, job ...  "
      ]
     },
     "execution_count": 242,
     "metadata": {},
     "output_type": "execute_result"
    }
   ],
   "source": [
    "data_scientist.head()"
   ]
  },
  {
   "cell_type": "code",
   "execution_count": 243,
   "id": "51b00bcd",
   "metadata": {},
   "outputs": [
    {
     "ename": "KeyboardInterrupt",
     "evalue": "",
     "output_type": "error",
     "traceback": [
      "\u001b[1;31m---------------------------------------------------------------------------\u001b[0m",
      "\u001b[1;31mKeyboardInterrupt\u001b[0m                         Traceback (most recent call last)",
      "\u001b[1;32m<ipython-input-243-2adda270da36>\u001b[0m in \u001b[0;36m<module>\u001b[1;34m\u001b[0m\n\u001b[0;32m      1\u001b[0m \u001b[0mds_result\u001b[0m \u001b[1;33m=\u001b[0m \u001b[1;33m[\u001b[0m\u001b[1;33m]\u001b[0m\u001b[1;33m\u001b[0m\u001b[1;33m\u001b[0m\u001b[0m\n\u001b[0;32m      2\u001b[0m \u001b[1;32mfor\u001b[0m \u001b[0mtitle\u001b[0m\u001b[1;33m,\u001b[0m \u001b[0mtext\u001b[0m \u001b[1;32min\u001b[0m \u001b[0msyllabi\u001b[0m\u001b[1;33m:\u001b[0m\u001b[1;33m\u001b[0m\u001b[1;33m\u001b[0m\u001b[0m\n\u001b[1;32m----> 3\u001b[1;33m     \u001b[0mdoc_sim\u001b[0m \u001b[1;33m=\u001b[0m \u001b[0mdoc_similarity\u001b[0m\u001b[1;33m(\u001b[0m\u001b[0msplit_clean\u001b[0m\u001b[1;33m(\u001b[0m\u001b[0mtext\u001b[0m\u001b[1;33m)\u001b[0m\u001b[1;33m,\u001b[0m \u001b[0mdata_scientist\u001b[0m\u001b[1;33m[\u001b[0m\u001b[1;34m'job_text'\u001b[0m\u001b[1;33m]\u001b[0m\u001b[1;33m)\u001b[0m\u001b[1;33m\u001b[0m\u001b[1;33m\u001b[0m\u001b[0m\n\u001b[0m\u001b[0;32m      4\u001b[0m     \u001b[0mresult\u001b[0m \u001b[1;33m=\u001b[0m \u001b[0mtitle\u001b[0m \u001b[1;33m+\u001b[0m \u001b[1;34m' Average Similarity: '\u001b[0m \u001b[1;33m+\u001b[0m \u001b[0mstr\u001b[0m\u001b[1;33m(\u001b[0m\u001b[0mdoc_sim\u001b[0m\u001b[1;33m)\u001b[0m\u001b[1;33m\u001b[0m\u001b[1;33m\u001b[0m\u001b[0m\n\u001b[0;32m      5\u001b[0m     \u001b[0mds_result\u001b[0m\u001b[1;33m.\u001b[0m\u001b[0mappend\u001b[0m\u001b[1;33m(\u001b[0m\u001b[0mdoc_sim\u001b[0m\u001b[1;33m)\u001b[0m\u001b[1;33m\u001b[0m\u001b[1;33m\u001b[0m\u001b[0m\n",
      "\u001b[1;32m<ipython-input-185-e6d9aa96f546>\u001b[0m in \u001b[0;36mdoc_similarity\u001b[1;34m(query, word_lists)\u001b[0m\n\u001b[0;32m      5\u001b[0m     \u001b[0mtf_idf\u001b[0m \u001b[1;33m=\u001b[0m \u001b[0mnp\u001b[0m\u001b[1;33m.\u001b[0m\u001b[0mzeros\u001b[0m\u001b[1;33m(\u001b[0m\u001b[1;33m(\u001b[0m\u001b[0mlen\u001b[0m\u001b[1;33m(\u001b[0m\u001b[0mquery\u001b[0m\u001b[1;33m)\u001b[0m\u001b[1;33m,\u001b[0m \u001b[0mlen\u001b[0m\u001b[1;33m(\u001b[0m\u001b[0mword_lists\u001b[0m\u001b[1;33m)\u001b[0m\u001b[1;33m)\u001b[0m\u001b[1;33m)\u001b[0m\u001b[1;33m\u001b[0m\u001b[1;33m\u001b[0m\u001b[0m\n\u001b[0;32m      6\u001b[0m     \u001b[1;32mfor\u001b[0m \u001b[0mi\u001b[0m\u001b[1;33m,\u001b[0m \u001b[0mword\u001b[0m \u001b[1;32min\u001b[0m \u001b[0menumerate\u001b[0m\u001b[1;33m(\u001b[0m\u001b[0mquery\u001b[0m\u001b[1;33m)\u001b[0m\u001b[1;33m:\u001b[0m\u001b[1;33m\u001b[0m\u001b[1;33m\u001b[0m\u001b[0m\n\u001b[1;32m----> 7\u001b[1;33m         \u001b[1;32mfor\u001b[0m \u001b[0mj\u001b[0m\u001b[1;33m,\u001b[0m \u001b[0mdoc\u001b[0m \u001b[1;32min\u001b[0m \u001b[0menumerate\u001b[0m\u001b[1;33m(\u001b[0m\u001b[0mword_lists\u001b[0m\u001b[1;33m)\u001b[0m\u001b[1;33m:\u001b[0m\u001b[1;33m\u001b[0m\u001b[1;33m\u001b[0m\u001b[0m\n\u001b[0m\u001b[0;32m      8\u001b[0m             \u001b[1;32mif\u001b[0m \u001b[0mword\u001b[0m \u001b[1;32min\u001b[0m \u001b[0mdoc\u001b[0m\u001b[1;33m:\u001b[0m\u001b[1;33m\u001b[0m\u001b[1;33m\u001b[0m\u001b[0m\n\u001b[0;32m      9\u001b[0m                 \u001b[0mtf_idf\u001b[0m\u001b[1;33m[\u001b[0m\u001b[0mi\u001b[0m\u001b[1;33m,\u001b[0m \u001b[0mj\u001b[0m\u001b[1;33m]\u001b[0m \u001b[1;33m=\u001b[0m \u001b[1;36m1\u001b[0m\u001b[1;33m\u001b[0m\u001b[1;33m\u001b[0m\u001b[0m\n",
      "\u001b[1;31mKeyboardInterrupt\u001b[0m: "
     ]
    }
   ],
   "source": [
    "ds_result = []\n",
    "for title, text in syllabi:\n",
    "    doc_sim = doc_similarity(split_clean(text), data_scientist['job_text'])\n",
    "    result = title + ' Average Similarity: ' + str(doc_sim)\n",
    "    ds_result.append(doc_sim)\n",
    "    print(result)"
   ]
  },
  {
   "cell_type": "code",
   "execution_count": null,
   "id": "0b42cd59",
   "metadata": {},
   "outputs": [],
   "source": [
    "da_result = []\n",
    "for title, text in syllabi:\n",
    "    doc_sim = doc_similarity(split_clean(text), data_analyst['job_text'])\n",
    "    result = title + ' Average Similarity: ' + str(doc_sim)\n",
    "    da_result.append(doc_sim)\n",
    "    print(result)"
   ]
  },
  {
   "cell_type": "code",
   "execution_count": null,
   "id": "79aa11f3",
   "metadata": {},
   "outputs": [],
   "source": [
    "df_ds = pd.DataFrame(syllabi, columns = ['title', 'text'])\n",
    "df_ds['cosine'] = ds_result  \n",
    "df_da = pd.DataFrame(syllabi, columns = ['title', 'text'])\n",
    "df_da['cosine'] = da_result  "
   ]
  },
  {
   "cell_type": "code",
   "execution_count": null,
   "id": "b312c5c2",
   "metadata": {},
   "outputs": [],
   "source": [
    "df_both = df_ds.merge(df_da, on = 'title', suffixes = ['_ds', '_da'])\n",
    "df_both"
   ]
  },
  {
   "cell_type": "code",
   "execution_count": 244,
   "id": "613684a2",
   "metadata": {},
   "outputs": [
    {
     "data": {
      "image/png": "[encoded data removed]",
      "text/plain": [
       "<Figure size 432x288 with 1 Axes>"
      ]
     },
     "metadata": {
      "needs_background": "light"
     },
     "output_type": "display_data"
    }
   ],
   "source": [
    "gridnumber = range(1,5)\n",
    "\n",
    "width = 0.3\n",
    "\n",
    "plt.bar(np.arange(4), df_both['cosine_ds'], width = width,\n",
    "                label=\"Data Scientist\", align=\"center\", color = '#1836b2')\n",
    "\n",
    "plt.bar(np.arange(4) + width, df_both['cosine_da'], width = width,\n",
    "                label=\"Data Analyst\", align=\"center\", color = '#A066CB')\n",
    "\n",
    "plt.xticks(np.arange(4) + width / 2, labels = df_both['title'], rotation = 45, ha = 'right')\n",
    "plt.legend()\n",
    "plt.title('Average Cosine Similarity')\n",
    "plt.ylabel('Cosine Similarity')\n",
    "plt.show()"
   ]
  },
  {
   "cell_type": "code",
   "execution_count": 253,
   "id": "34ba9d58",
   "metadata": {},
   "outputs": [],
   "source": [
    "mkt = doc_text('MKTAnalytics I_MSBA_Fall2021_Syllabus.docx')\n",
    "sc = pdf_text('2021 Fall OM 380 17 Syllabus - (Aug 22 2021)-1.pdf')\n",
    "fin = doc_text('BA 385T.docx')"
   ]
  },
  {
   "cell_type": "code",
   "execution_count": 254,
   "id": "856efe3f",
   "metadata": {},
   "outputs": [],
   "source": [
    "classes = [('Marketing Analytics', mkt), ('Supply Chain Analytics', sc), ('Financial Management', fin)]"
   ]
  },
  {
   "cell_type": "code",
   "execution_count": 255,
   "id": "f9b4fb7b",
   "metadata": {},
   "outputs": [
    {
     "name": "stdout",
     "output_type": "stream",
     "text": [
      "Marketing Analytics Average Similarity: 0.01656438486557023\n",
      "Supply Chain Analytics Average Similarity: 0.011523910968831168\n",
      "Financial Management Average Similarity: 0.015407476170633145\n"
     ]
    }
   ],
   "source": [
    "elective_result = []\n",
    "for title, text in classes:\n",
    "    doc_sim = doc_similarity(split_clean(text), jobs['job_text'])\n",
    "    result = title + ' Average Similarity: ' + str(doc_sim)\n",
    "    elective_result.append(doc_sim)\n",
    "    print(result)"
   ]
  },
  {
   "cell_type": "code",
   "execution_count": 257,
   "id": "dd526c51",
   "metadata": {},
   "outputs": [],
   "source": [
    "df1 = pd.DataFrame(classes, columns = ['title', 'text'])\n",
    "df1['cosine'] = elective_result "
   ]
  },
  {
   "cell_type": "code",
   "execution_count": 258,
   "id": "6c406e8a",
   "metadata": {},
   "outputs": [
    {
     "data": {
      "text/plain": [
       "Text(0, 0.5, 'Cosine Similarity')"
      ]
     },
     "execution_count": 258,
     "metadata": {},
     "output_type": "execute_result"
    },
    {
     "data": {
      "image/png": "[encoded data removed]",
      "text/plain": [
       "<Figure size 432x288 with 1 Axes>"
      ]
     },
     "metadata": {
      "needs_background": "light"
     },
     "output_type": "display_data"
    }
   ],
   "source": [
    "plt.bar(df1['title'], df1['cosine'], color = '#1836b2')\n",
    "plt.xticks(rotation = 45, ha = 'right')\n",
    "plt.title('Average Cosine Similarity')\n",
    "plt.ylabel('Cosine Similarity')"
   ]
  },
  {
   "cell_type": "code",
   "execution_count": null,
   "id": "ae522d82",
   "metadata": {},
   "outputs": [],
   "source": []
  }
 ],
 "metadata": {
  "kernelspec": {
   "display_name": "Python 3",
   "language": "python",
   "name": "python3"
  },
  "language_info": {
   "codemirror_mode": {
    "name": "ipython",
    "version": 3
   },
   "file_extension": ".py",
   "mimetype": "text/x-python",
   "name": "python",
   "nbconvert_exporter": "python",
   "pygments_lexer": "ipython3",
   "version": "3.8.8"
  }
 },
 "nbformat": 4,
 "nbformat_minor": 5
}
